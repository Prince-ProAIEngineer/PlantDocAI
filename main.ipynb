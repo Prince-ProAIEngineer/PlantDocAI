{
 "cells": [
  {
   "cell_type": "code",
   "execution_count": null,
   "metadata": {},
   "outputs": [],
   "source": [
    "import torch\n",
    "import torch.nn as nn\n",
    "from torch.utils.data import DataLoader, Dataset\n",
    "import os\n",
    "from torchvision import datasets, transforms, models"
   ]
  },
  {
   "cell_type": "code",
   "execution_count": 3,
   "id": "dac53f0d",
   "metadata": {},
   "outputs": [],
   "source": [
    "train_transform=transforms.Compose([\n",
    "        transforms.Resize((224,224)),\n",
    "        transforms.RandomHorizontalFlip(),\n",
    "        transforms.ToTensor(),\n",
    "        transforms.Normalize(\n",
    "            [0.485, 0.456, 0.406],\n",
    "            [0.229, 0.224, 0.225]\n",
    "        )\n",
    "     ])\n",
    "\n",
    "valid_transform=transforms.Compose([\n",
    "    transforms.Resize((224,224)),\n",
    "    transforms.RandomHorizontalFlip(),\n",
    "    transforms.ToTensor(),\n",
    "    transforms.Normalize(\n",
    "         [0.485, 0.456, 0.406],\n",
    "            [0.229, 0.224, 0.225]\n",
    "    )\n",
    "])"
   ]
  },
  {
   "cell_type": "code",
   "execution_count": 4,
   "id": "248d947e",
   "metadata": {},
   "outputs": [],
   "source": [
    "train_dir = './train'\n",
    "valid_dir = './valid'\n",
    "test_dir  = './test'\n",
    "\n",
    "train_data = datasets.ImageFolder(train_dir, transform=train_transform)\n",
    "valid_data = datasets.ImageFolder(valid_dir, transform=valid_transform)\n",
    "\n",
    "\n",
    "train_loader = DataLoader(train_data, batch_size=32, shuffle=True)\n",
    "valid_loader = DataLoader(valid_data, batch_size=32, shuffle=False)\n",
    "\n"
   ]
  },
  {
   "cell_type": "code",
   "execution_count": 5,
   "id": "eec595d1",
   "metadata": {},
   "outputs": [],
   "source": [
    "from torchvision.datasets.folder import default_loader\n",
    "\n",
    "class TestDataset(Dataset):\n",
    "    def __init__(self, root_dir, transform=None):\n",
    "        self.file_paths = [os.path.join(root_dir, fname) \n",
    "                           for fname in os.listdir(root_dir) if fname.endswith('.jpg')]\n",
    "        self.transform = transform\n",
    "        self.loader = default_loader  # PIL image loader\n",
    "\n",
    "    def __len__(self):\n",
    "        return len(self.file_paths)\n",
    "\n",
    "    def __getitem__(self, idx):\n",
    "        path = self.file_paths[idx]\n",
    "        image = self.loader(path)\n",
    "        if self.transform:\n",
    "            image = self.transform(image)\n",
    "        return image, path  # return path if you want to track predictions\n",
    "\n",
    "test_dataset = TestDataset('./test', transform=valid_transform)\n",
    "test_loader = DataLoader(test_dataset, batch_size=32, shuffle=False)\n"
   ]
  },
  {
   "cell_type": "code",
   "execution_count": 7,
   "id": "49901582",
   "metadata": {},
   "outputs": [
    {
     "name": "stderr",
     "output_type": "stream",
     "text": [
      "c:\\Users\\Dell\\AppData\\Local\\Programs\\Python\\Python313\\Lib\\site-packages\\torchvision\\models\\_utils.py:208: UserWarning: The parameter 'pretrained' is deprecated since 0.13 and may be removed in the future, please use 'weights' instead.\n",
      "  warnings.warn(\n",
      "c:\\Users\\Dell\\AppData\\Local\\Programs\\Python\\Python313\\Lib\\site-packages\\torchvision\\models\\_utils.py:223: UserWarning: Arguments other than a weight enum or `None` for 'weights' are deprecated since 0.13 and may be removed in the future. The current behavior is equivalent to passing `weights=ResNet18_Weights.IMAGENET1K_V1`. You can also use `weights=ResNet18_Weights.DEFAULT` to get the most up-to-date weights.\n",
      "  warnings.warn(msg)\n",
      "Downloading: \"https://download.pytorch.org/models/resnet18-f37072fd.pth\" to C:\\Users\\Dell/.cache\\torch\\hub\\checkpoints\\resnet18-f37072fd.pth\n",
      "100%|██████████| 44.7M/44.7M [00:01<00:00, 25.0MB/s]\n"
     ]
    }
   ],
   "source": [
    "model=models.resnet18(pretrained=True)\n",
    "\n",
    "for param in model.parameters():\n",
    "    param.requires_grad= False\n",
    "\n",
    "num_classes=len(train_data.classes)\n",
    "model.fc=nn.Linear(model.fc.in_features, num_classes)\n",
    "\n",
    "device = torch.device(\"cuda\" if torch.cuda.is_available() else 'cpu')\n",
    "model = model.to(device)"
   ]
  },
  {
   "cell_type": "markdown",
   "id": "1df78b71",
   "metadata": {},
   "source": [
    "Training the model"
   ]
  },
  {
   "cell_type": "code",
   "execution_count": 9,
   "id": "5bddefa7",
   "metadata": {},
   "outputs": [],
   "source": [
    "import torch\n",
    "\n",
    "def train_model(model, train_loader, valid_loader, criterion, optimizer, device, epochs=10):\n",
    "    best_acc = 0.0\n",
    "    best_model_wts = None\n",
    "\n",
    "    for epoch in range(epochs):\n",
    "        print(f\"Epoch {epoch+1}/{epochs}\")\n",
    "\n",
    "        # --- Training phase ---\n",
    "        model.train()  # Set model to training mode (enables dropout, batchnorm updates)\n",
    "        running_loss = 0.0\n",
    "        running_corrects = 0\n",
    "        total_samples = 0\n",
    "\n",
    "        for inputs, labels in train_loader:\n",
    "            inputs = inputs.to(device)\n",
    "            labels = labels.to(device)\n",
    "\n",
    "            optimizer.zero_grad()        \n",
    "            outputs = model(inputs)      \n",
    "            loss = criterion(outputs, labels)  \n",
    "            loss.backward()             \n",
    "            optimizer.step()             \n",
    "\n",
    "            \n",
    "            running_loss += loss.item() * inputs.size(0) \n",
    "            _, preds = torch.max(outputs, 1)              \n",
    "            running_corrects += torch.sum(preds == labels.data).item()\n",
    "            total_samples += inputs.size(0)\n",
    "\n",
    "        epoch_loss = running_loss / total_samples\n",
    "        epoch_acc = running_corrects / total_samples\n",
    "        print(f\"Train Loss: {epoch_loss:.4f} Acc: {epoch_acc:.4f}\")\n",
    "\n",
    "        \n",
    "        model.eval()  \n",
    "        val_loss = 0.0\n",
    "        val_corrects = 0\n",
    "        val_samples = 0\n",
    "\n",
    "        with torch.no_grad():  \n",
    "            for inputs, labels in valid_loader:\n",
    "                inputs = inputs.to(device)\n",
    "                labels = labels.to(device)\n",
    "\n",
    "                outputs = model(inputs)\n",
    "                loss = criterion(outputs, labels)\n",
    "\n",
    "                val_loss += loss.item() * inputs.size(0)\n",
    "                _, preds = torch.max(outputs, 1)\n",
    "                val_corrects += torch.sum(preds == labels.data).item()\n",
    "                val_samples += inputs.size(0)\n",
    "\n",
    "        val_epoch_loss = val_loss / val_samples\n",
    "        val_epoch_acc = val_corrects / val_samples\n",
    "        print(f\"Val Loss: {val_epoch_loss:.4f} Acc: {val_epoch_acc:.4f}\")\n",
    "\n",
    "        # Save best model\n",
    "        if val_epoch_acc > best_acc:\n",
    "            best_acc = val_epoch_acc\n",
    "            best_model_wts = model.state_dict()\n",
    "\n",
    "    print(f\"Best Validation Accuracy: {best_acc:.4f}\")\n",
    "\n",
    "    # Load best weights before returning\n",
    "    model.load_state_dict(best_model_wts)\n",
    "    return model\n"
   ]
  },
  {
   "cell_type": "code",
   "execution_count": 10,
   "id": "d917ff02",
   "metadata": {},
   "outputs": [
    {
     "name": "stdout",
     "output_type": "stream",
     "text": [
      "Epoch 1/10\n",
      "Train Loss: 0.4780 Acc: 0.8887\n",
      "Val Loss: 0.2056 Acc: 0.9385\n",
      "Epoch 2/10\n",
      "Train Loss: 0.1935 Acc: 0.9410\n",
      "Val Loss: 0.1510 Acc: 0.9536\n",
      "Epoch 3/10\n",
      "Train Loss: 0.1578 Acc: 0.9498\n",
      "Val Loss: 0.1393 Acc: 0.9538\n",
      "Epoch 4/10\n",
      "Train Loss: 0.1410 Acc: 0.9539\n",
      "Val Loss: 0.1282 Acc: 0.9578\n",
      "Epoch 5/10\n",
      "Train Loss: 0.1294 Acc: 0.9575\n",
      "Val Loss: 0.1347 Acc: 0.9544\n",
      "Epoch 6/10\n",
      "Train Loss: 0.1242 Acc: 0.9585\n",
      "Val Loss: 0.1103 Acc: 0.9624\n",
      "Epoch 7/10\n",
      "Train Loss: 0.1218 Acc: 0.9591\n",
      "Val Loss: 0.1126 Acc: 0.9634\n",
      "Epoch 8/10\n",
      "Train Loss: 0.1160 Acc: 0.9615\n",
      "Val Loss: 0.1172 Acc: 0.9615\n",
      "Epoch 9/10\n",
      "Train Loss: 0.1120 Acc: 0.9617\n",
      "Val Loss: 0.1081 Acc: 0.9643\n",
      "Epoch 10/10\n",
      "Train Loss: 0.1085 Acc: 0.9634\n",
      "Val Loss: 0.1152 Acc: 0.9613\n",
      "Best Validation Accuracy: 0.9643\n"
     ]
    }
   ],
   "source": [
    "import torch.optim\n",
    "criterion=nn.CrossEntropyLoss()\n",
    "optimizer= torch.optim.AdamW(model.parameters(), lr=0.001)\n",
    "trained_model = train_model(model, train_loader, valid_loader, criterion, optimizer, device, epochs=10)\n"
   ]
  },
  {
   "cell_type": "code",
   "execution_count": 14,
   "id": "423dd710",
   "metadata": {},
   "outputs": [],
   "source": [
    "torch.save(model.state_dict(), \"plant_disease_prediction_model.pth\")\n"
   ]
  },
  {
   "cell_type": "code",
   "execution_count": 12,
   "id": "6990a9d1",
   "metadata": {},
   "outputs": [
    {
     "data": {
      "text/plain": [
       "38"
      ]
     },
     "execution_count": 12,
     "metadata": {},
     "output_type": "execute_result"
    }
   ],
   "source": [
    "len(train_data.classes)"
   ]
  },
  {
   "cell_type": "code",
   "execution_count": 13,
   "id": "8c249738",
   "metadata": {},
   "outputs": [],
   "source": [
    "import json\n",
    "\n",
    "# Save the class names used during training\n",
    "with open(\"class_names.json\", \"w\") as f:\n",
    "    json.dump(train_data.classes, f)\n"
   ]
  },
  {
   "cell_type": "code",
   "execution_count": null,
   "id": "caf65090",
   "metadata": {},
   "outputs": [],
   "source": []
  }
 ],
 "metadata": {
  "kernelspec": {
   "display_name": "Python 3",
   "language": "python",
   "name": "python3"
  },
  "language_info": {
   "codemirror_mode": {
    "name": "ipython",
    "version": 3
   },
   "file_extension": ".py",
   "mimetype": "text/x-python",
   "name": "python",
   "nbconvert_exporter": "python",
   "pygments_lexer": "ipython3",
   "version": "3.13.1"
  }
 },
 "nbformat": 4,
 "nbformat_minor": 5
}
